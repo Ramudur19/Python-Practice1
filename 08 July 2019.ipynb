{
 "cells": [
  {
   "cell_type": "code",
   "execution_count": 3,
   "metadata": {},
   "outputs": [
    {
     "name": "stdout",
     "output_type": "stream",
     "text": [
      "1\n",
      "100\n",
      "6 12 18 24 30 36 42 48 54 60 66 72 78 84 90 96 "
     ]
    }
   ],
   "source": [
    "#Function to print all numbers divisible by 6 and not a factor of 100 in a given range(lb, ub) inclusive\n",
    "lb=int(input())\n",
    "ub=int(input())\n",
    "def divisible(lb,ub):\n",
    "    for i in range(lb,ub+1):\n",
    "        if(i%6 is 0 and i%100 is not 0):\n",
    "            print(i,end=' ')\n",
    "    \n",
    "divisible(lb,ub)"
   ]
  },
  {
   "cell_type": "code",
   "execution_count": 4,
   "metadata": {},
   "outputs": [
    {
     "name": "stdout",
     "output_type": "stream",
     "text": [
      "1\n",
      "10\n"
     ]
    },
    {
     "data": {
      "text/plain": [
       "360"
      ]
     },
     "execution_count": 4,
     "metadata": {},
     "output_type": "execute_result"
    }
   ],
   "source": [
    "#Function to find the average of cubes of all even numbers in a given range(lb, ub) inclusive\n",
    "\n",
    "lb=int(input())\n",
    "ub=int(input())\n",
    "def avgcubes(lb,ub):\n",
    "    sum=0\n",
    "    count=0\n",
    "    for i in range(lb,ub+1):\n",
    "        if(i%2==0):\n",
    "            sum=sum+(i**3)\n",
    "            count=count+1\n",
    "    return sum//count\n",
    "    \n",
    "avgcubes(lb,ub)"
   ]
  },
  {
   "cell_type": "code",
   "execution_count": 9,
   "metadata": {},
   "outputs": [
    {
     "name": "stdout",
     "output_type": "stream",
     "text": [
      "6\n",
      "1 2 3 "
     ]
    }
   ],
   "source": [
    "#Function to generate the list of factors for a given number\n",
    "\n",
    "n=int(input())\n",
    "\n",
    "def factors(n):\n",
    "    for i in range(1,n):\n",
    "        if n%i==0:\n",
    "            print(i,end=\" \")\n",
    "        \n",
    "factors(n)"
   ]
  },
  {
   "cell_type": "code",
   "execution_count": 12,
   "metadata": {},
   "outputs": [
    {
     "name": "stdout",
     "output_type": "stream",
     "text": [
      "5\n"
     ]
    },
    {
     "data": {
      "text/plain": [
       "120"
      ]
     },
     "execution_count": 12,
     "metadata": {},
     "output_type": "execute_result"
    }
   ],
   "source": [
    "# Function to generate the list of factors for a given number\n",
    "n=int(input())\n",
    "\n",
    "def factorial(n):\n",
    "    if n==1:\n",
    "        return 1\n",
    "    else:\n",
    "        return n*factorial(n-1)\n",
    "    \n",
    "factorial(n)"
   ]
  },
  {
   "cell_type": "code",
   "execution_count": 23,
   "metadata": {},
   "outputs": [
    {
     "name": "stdout",
     "output_type": "stream",
     "text": [
      "13\n"
     ]
    },
    {
     "data": {
      "text/plain": [
       "1"
      ]
     },
     "execution_count": 23,
     "metadata": {},
     "output_type": "execute_result"
    }
   ],
   "source": [
    "#Function to check if a given number is Prime\n",
    "n=int(input())\n",
    "def isprime(n):\n",
    "    flag=0\n",
    "    for i in range(1,n+1):\n",
    "        if n%i is 0:\n",
    "            flag=flag+1\n",
    "    if flag==2:\n",
    "        return 1\n",
    "    else:\n",
    "        return 0\n",
    "    \n",
    "isprime(n)"
   ]
  },
  {
   "cell_type": "code",
   "execution_count": 31,
   "metadata": {},
   "outputs": [
    {
     "name": "stdout",
     "output_type": "stream",
     "text": [
      "1\n",
      "10\n"
     ]
    },
    {
     "data": {
      "text/plain": [
       "4.25"
      ]
     },
     "execution_count": 31,
     "metadata": {},
     "output_type": "execute_result"
    }
   ],
   "source": [
    "# Function to calculate the average first N Prime numbers\n",
    "lb=int(input())\n",
    "ub=int(input())\n",
    "def avgprime(lb,ub):\n",
    "    sum=0\n",
    "    count=0\n",
    "    for i in range(lb,ub+1):\n",
    "        if isprime(i)==True:\n",
    "            sum=sum+i\n",
    "            count=count+1\n",
    "    return sum/count\n",
    "    \n",
    "avgprime(lb,ub)"
   ]
  },
  {
   "cell_type": "code",
   "execution_count": 33,
   "metadata": {},
   "outputs": [
    {
     "name": "stdout",
     "output_type": "stream",
     "text": [
      "1\n",
      "500\n",
      "6 28 496 "
     ]
    }
   ],
   "source": [
    "#Function to generate all Perfect numbers in a given range\n",
    "lb=int(input())\n",
    "ub=int(input())\n",
    "def perfectnumber(lb,ub):\n",
    "    for i in range(lb,ub+1):\n",
    "        sum=0\n",
    "        for j in range(1,i):\n",
    "            if i%j is 0:\n",
    "                sum=sum+j\n",
    "        if sum==i:\n",
    "            print(i,end=' ')\n",
    "    \n",
    "perfectnumber(lb,ub)"
   ]
  },
  {
   "cell_type": "markdown",
   "metadata": {},
   "source": [
    "# Advance Problem Set"
   ]
  },
  {
   "cell_type": "code",
   "execution_count": 36,
   "metadata": {},
   "outputs": [
    {
     "name": "stdout",
     "output_type": "stream",
     "text": [
      "10\n",
      "100\n",
      "102\n",
      "10 * 100 = 1000\n",
      "10 * 101 = 1010\n",
      "10 * 102 = 1020\n"
     ]
    }
   ],
   "source": [
    "#Function to generate Multiplication table for a number in a given range\n",
    "# 10 in the range(100, 102) inclusive\n",
    "# 10 x 100 = 1000\n",
    "# 10 x 101 = 1010\n",
    "# 10 x 102 = 1020\n",
    "table=int(input())\n",
    "st=int(input())\n",
    "ed=int(input())\n",
    "def tableprint(table,st,ed):\n",
    "    for i in range(st,ed+1):\n",
    "        print(table,\"*\",i,\"=\",table*i)\n",
    "    \n",
    "tableprint(table,st,ed)    "
   ]
  },
  {
   "cell_type": "code",
   "execution_count": 37,
   "metadata": {},
   "outputs": [
    {
     "name": "stdout",
     "output_type": "stream",
     "text": [
      "1\n",
      "10\n"
     ]
    },
    {
     "data": {
      "text/plain": [
       "403791"
      ]
     },
     "execution_count": 37,
     "metadata": {},
     "output_type": "execute_result"
    }
   ],
   "source": [
    "# Function to calculate the average of all factorials in a given range\n",
    "lb=int(input())\n",
    "ub=int(input())\n",
    "def avgfactorilas(lb,ub):\n",
    "    sum=0\n",
    "    count=0\n",
    "    for i in range(lb,ub+1):\n",
    "        sum=sum+factorial(i)\n",
    "        count=count+1\n",
    "    return sum//count\n",
    "avgfactorilas(lb,ub)"
   ]
  },
  {
   "cell_type": "code",
   "execution_count": 2,
   "metadata": {},
   "outputs": [
    {
     "name": "stdout",
     "output_type": "stream",
     "text": [
      "10\n",
      "500\n",
      "153 371 407 "
     ]
    }
   ],
   "source": [
    "#Function to generate N odd Armstrong numbers\n",
    "lb=int(input())\n",
    "ub=int(input())\n",
    "def armstrong(lb,ub):\n",
    "    for i in range(lb,ub+1):\n",
    "        if i%2 is not 0:\n",
    "            t=i\n",
    "            sum=0\n",
    "            length=len(str(i))\n",
    "            while(t!=0):\n",
    "                sum=sum+(t%10)**length\n",
    "                t=t//10\n",
    "            if sum==i:\n",
    "                print(i,end=' ')\n",
    "armstrong(lb,ub)"
   ]
  },
  {
   "cell_type": "code",
   "execution_count": 5,
   "metadata": {},
   "outputs": [
    {
     "name": "stdout",
     "output_type": "stream",
     "text": [
      "HarIDeep\n",
      "hARidEEP\n"
     ]
    }
   ],
   "source": [
    "#You are given a string and your task is to swap cases. In other words, convert all lowercase letters to uppercase letters and vice versa. (The String may contain special characters).\n",
    "\n",
    "s=input()\n",
    "def swap(s):\n",
    "    print(s.swapcase())\n",
    "    \n",
    "swap(s)"
   ]
  },
  {
   "cell_type": "code",
   "execution_count": 12,
   "metadata": {},
   "outputs": [
    {
     "name": "stdout",
     "output_type": "stream",
     "text": [
      "26\n",
      "Not weired\n"
     ]
    }
   ],
   "source": [
    "#Given an integer, ’n’ , perform the following conditional actions:\n",
    "#If ‘n’  is odd, print Weird\n",
    "#If  ‘n’ is even and in the inclusive range of 2 to 5, print Not Weird\n",
    "#If  ‘n’ is even and in the inclusive range of 6 to 20 , print Weird\n",
    "#If  ‘n’ is even and greater than 20, print Not Weird\n",
    "n=int(input())\n",
    "def weired(n):\n",
    "    if n%2 is 0 and (n>=6 and n<=20):\n",
    "        print(\"Weired\")\n",
    "    elif n%2 is 0 and (n>=2 and n<=5) or (n>20):\n",
    "            print(\"Not weired\")\n",
    "    elif n%2 is not 0:\n",
    "        print(\"Weird\")\n",
    "            \n",
    "weired(n)"
   ]
  },
  {
   "cell_type": "code",
   "execution_count": null,
   "metadata": {},
   "outputs": [],
   "source": []
  }
 ],
 "metadata": {
  "kernelspec": {
   "display_name": "Python 3",
   "language": "python",
   "name": "python3"
  },
  "language_info": {
   "codemirror_mode": {
    "name": "ipython",
    "version": 3
   },
   "file_extension": ".py",
   "mimetype": "text/x-python",
   "name": "python",
   "nbconvert_exporter": "python",
   "pygments_lexer": "ipython3",
   "version": "3.7.3"
  }
 },
 "nbformat": 4,
 "nbformat_minor": 2
}
